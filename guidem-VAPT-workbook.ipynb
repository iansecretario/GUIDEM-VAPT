{
 "cells": [
  {
   "cell_type": "markdown",
   "metadata": {},
   "source": [
    "# GUIDEM PENETRATION TESTING METHODOLOGY "
   ]
  },
  {
   "cell_type": "code",
   "execution_count": 1,
   "metadata": {
    "scrolled": true
   },
   "outputs": [],
   "source": [
    "# Set all variables replace host with target list or host ip address\n",
    "\n",
    "HOST = '192.168.106.141' #Replace me\n",
    "TARGETLIST = '/root/VAPT/pentest-project1/targets'\n",
    "GUIDEM_NMAP_DIR = '/root/VAPT/NMAP'\n",
    "GUIDEM_DIRB_DIR = '/root/VAPT/DIRB'\n",
    "GUIDEM_NIKTO_DIR = '/root/VAPT/NIKTO'\n",
    "GUIDEM_WORDLISTS_DIR = '/root/VAPT/WORDLIST'"
   ]
  },
  {
   "cell_type": "code",
   "execution_count": null,
   "metadata": {},
   "outputs": [],
   "source": [
    "!mkdir /root/VAPT/\n",
    "!mkdir /root/VAPT/pentest-project1/\n",
    "%cd /root/VAPT/pentest-project1/\n",
    "!touch targets # edit targets file before proceeding and input your target ip"
   ]
  },
  {
   "cell_type": "markdown",
   "metadata": {},
   "source": [
    "## CREATE DIRECTORIES FOR FILE OUTPUT"
   ]
  },
  {
   "cell_type": "code",
   "execution_count": null,
   "metadata": {
    "scrolled": false
   },
   "outputs": [],
   "source": [
    "%cd /root/VAPT/\n",
    "!mkdir {GUIDEM_NMAP_DIR}\n",
    "!mkdir {GUIDEM_DIRB_DIR}\n",
    "!mkdir {GUIDEM_NIKTO_DIR}\n",
    "!mkdir {GUIDEM_WORDLISTS_DIR}"
   ]
  },
  {
   "cell_type": "markdown",
   "metadata": {},
   "source": [
    "# SCANNING AND ENUMERATION"
   ]
  },
  {
   "cell_type": "markdown",
   "metadata": {},
   "source": [
    "### SCAN A SINGLE HOST"
   ]
  },
  {
   "cell_type": "code",
   "execution_count": null,
   "metadata": {
    "scrolled": true
   },
   "outputs": [],
   "source": [
    "!nmap -sS -oA \"{GUIDEM_NMAP_DIR}/syn_scan_single\" {HOST}"
   ]
  },
  {
   "cell_type": "markdown",
   "metadata": {},
   "source": [
    "### SCAN A LIST OF TARGETS"
   ]
  },
  {
   "cell_type": "code",
   "execution_count": null,
   "metadata": {
    "scrolled": true
   },
   "outputs": [],
   "source": [
    "!nmap -sS -oA \"{GUIDEM_NMAP_DIR}/syn_scan_multiple\" -iL {TARGETLIST}"
   ]
  },
  {
   "cell_type": "markdown",
   "metadata": {},
   "source": [
    "### VERSION DETECTION & ENUMERATION"
   ]
  },
  {
   "cell_type": "code",
   "execution_count": null,
   "metadata": {
    "scrolled": true
   },
   "outputs": [],
   "source": [
    "!nmap -sSV -oA \"{GUIDEM_NMAP_DIR}/version_detection\" -iL {TARGETLIST}"
   ]
  },
  {
   "cell_type": "code",
   "execution_count": null,
   "metadata": {
    "scrolled": true
   },
   "outputs": [],
   "source": [
    "!nmap -sSV -oA \"{GUIDEM_NMAP_DIR}/version_detection\" -iL {TARGETLIST}"
   ]
  },
  {
   "cell_type": "markdown",
   "metadata": {},
   "source": [
    "### SYN SCAN WITH NMAP SCRIPTING ENGINE"
   ]
  },
  {
   "cell_type": "code",
   "execution_count": null,
   "metadata": {
    "scrolled": false
   },
   "outputs": [],
   "source": [
    "#You can replace the -iL with an ip address\n",
    "!nmap -sSC -oA \"{GUIDEM_NMAP_DIR}/syn_nmapscript\" -iL {TARGETLIST}"
   ]
  },
  {
   "cell_type": "markdown",
   "metadata": {},
   "source": [
    "### Perform Full TCP NMAP SCAN - This might take long"
   ]
  },
  {
   "cell_type": "code",
   "execution_count": 6,
   "metadata": {},
   "outputs": [
    {
     "name": "stdout",
     "output_type": "stream",
     "text": [
      "Starting Nmap 7.80 ( https://nmap.org ) at 2019-11-22 19:01 EST\n",
      "NSE: Loaded 151 scripts for scanning.\n",
      "NSE: Script Pre-scanning.\n",
      "NSE: Starting runlevel 1 (of 3) scan.\n",
      "Initiating NSE at 19:01\n",
      "Completed NSE at 19:01, 0.00s elapsed\n",
      "NSE: Starting runlevel 2 (of 3) scan.\n",
      "Initiating NSE at 19:01\n",
      "Completed NSE at 19:01, 0.00s elapsed\n",
      "NSE: Starting runlevel 3 (of 3) scan.\n",
      "Initiating NSE at 19:01\n",
      "Completed NSE at 19:01, 0.00s elapsed\n",
      "Initiating Parallel DNS resolution of 1 host. at 19:01\n",
      "Completed Parallel DNS resolution of 1 host. at 19:01, 0.01s elapsed\n",
      "Initiating SYN Stealth Scan at 19:01\n",
      "Scanning 192.168.106.141 [65535 ports]\n",
      "Discovered open port 111/tcp on 192.168.106.141\n",
      "Completed SYN Stealth Scan at 19:01, 1.21s elapsed (65535 total ports)\n",
      "Initiating Service scan at 19:01\n",
      "Scanning 1 service on 192.168.106.141\n",
      "Completed Service scan at 19:01, 6.01s elapsed (1 service on 1 host)\n",
      "Initiating OS detection (try #1) against 192.168.106.141\n",
      "NSE: Script scanning 192.168.106.141.\n",
      "NSE: Starting runlevel 1 (of 3) scan.\n",
      "Initiating NSE at 19:01\n",
      "Completed NSE at 19:01, 0.02s elapsed\n",
      "NSE: Starting runlevel 2 (of 3) scan.\n",
      "Initiating NSE at 19:01\n",
      "Completed NSE at 19:01, 0.00s elapsed\n",
      "NSE: Starting runlevel 3 (of 3) scan.\n",
      "Initiating NSE at 19:01\n",
      "Completed NSE at 19:01, 0.00s elapsed\n",
      "Nmap scan report for 192.168.106.141\n",
      "Host is up, received localhost-response (0.000058s latency).\n",
      "Scanned at 2019-11-22 19:01:01 EST for 9s\n",
      "Not shown: 65534 closed ports\n",
      "Reason: 65534 resets\n",
      "PORT    STATE SERVICE REASON         VERSION\n",
      "111/tcp open  rpcbind syn-ack ttl 64 2-4 (RPC #100000)\n",
      "| rpcinfo: \n",
      "|   program version    port/proto  service\n",
      "|   100000  2,3,4        111/tcp   rpcbind\n",
      "|   100000  2,3,4        111/udp   rpcbind\n",
      "|   100000  3,4          111/tcp6  rpcbind\n",
      "|_  100000  3,4          111/udp6  rpcbind\n",
      "Device type: general purpose\n",
      "Running: Linux 2.6.X\n",
      "OS CPE: cpe:/o:linux:linux_kernel:2.6.32\n",
      "OS details: Linux 2.6.32\n",
      "TCP/IP fingerprint:\n",
      "OS:SCAN(V=7.80%E=4%D=11/22%OT=111%CT=1%CU=33069%PV=Y%DS=0%DC=L%G=Y%TM=5DD87\n",
      "OS:6C6%P=x86_64-pc-linux-gnu)SEQ(SP=104%GCD=1%ISR=108%TI=Z%CI=Z%II=I%TS=A)O\n",
      "OS:PS(O1=MFFD7ST11NW7%O2=MFFD7ST11NW7%O3=MFFD7NNT11NW7%O4=MFFD7ST11NW7%O5=M\n",
      "OS:FFD7ST11NW7%O6=MFFD7ST11)WIN(W1=FFCB%W2=FFCB%W3=FFCB%W4=FFCB%W5=FFCB%W6=\n",
      "OS:FFCB)ECN(R=Y%DF=Y%T=40%W=FFD7%O=MFFD7NNSNW7%CC=Y%Q=)T1(R=Y%DF=Y%T=40%S=O\n",
      "OS:%A=S+%F=AS%RD=0%Q=)T2(R=N)T3(R=N)T4(R=Y%DF=Y%T=40%W=0%S=A%A=Z%F=R%O=%RD=\n",
      "OS:0%Q=)T5(R=Y%DF=Y%T=40%W=0%S=Z%A=S+%F=AR%O=%RD=0%Q=)T6(R=Y%DF=Y%T=40%W=0%\n",
      "OS:S=A%A=Z%F=R%O=%RD=0%Q=)T7(R=Y%DF=Y%T=40%W=0%S=Z%A=S+%F=AR%O=%RD=0%Q=)U1(\n",
      "OS:R=Y%DF=N%T=40%IPL=164%UN=0%RIPL=G%RID=G%RIPCK=G%RUCK=G%RUD=G)IE(R=Y%DFI=\n",
      "OS:N%T=40%CD=S)\n",
      "\n",
      "Uptime guess: 27.361 days (since Sat Oct 26 11:21:22 2019)\n",
      "Network Distance: 0 hops\n",
      "TCP Sequence Prediction: Difficulty=260 (Good luck!)\n",
      "IP ID Sequence Generation: All zeros\n",
      "\n",
      "NSE: Script Post-scanning.\n",
      "NSE: Starting runlevel 1 (of 3) scan.\n",
      "Initiating NSE at 19:01\n",
      "Completed NSE at 19:01, 0.00s elapsed\n",
      "NSE: Starting runlevel 2 (of 3) scan.\n",
      "Initiating NSE at 19:01\n",
      "Completed NSE at 19:01, 0.00s elapsed\n",
      "NSE: Starting runlevel 3 (of 3) scan.\n",
      "Initiating NSE at 19:01\n",
      "Completed NSE at 19:01, 0.00s elapsed\n",
      "Read data files from: /usr/bin/../share/nmap\n",
      "OS and Service detection performed. Please report any incorrect results at https://nmap.org/submit/ .\n",
      "Nmap done: 1 IP address (1 host up) scanned in 9.39 seconds\n",
      "           Raw packets sent: 65557 (2.885MB) | Rcvd: 131113 (5.508MB)\n"
     ]
    }
   ],
   "source": [
    "!nmap -sSCV -A -p- -O -oA \"{GUIDEM_NMAP_DIR}/nmap-full\" -iL {TARGETLIST} -vv"
   ]
  },
  {
   "cell_type": "markdown",
   "metadata": {},
   "source": [
    "### MAKE SURE NO TCP PORTS WAS MISSED - THIS CAN BE ALSO DONE DURING INITIAL SCANNING"
   ]
  },
  {
   "cell_type": "code",
   "execution_count": 3,
   "metadata": {},
   "outputs": [
    {
     "name": "stdout",
     "output_type": "stream",
     "text": [
      "\n",
      "Starting masscan 1.0.5 (http://bit.ly/14GZzcT) at 2019-11-22 23:59:41 GMT\n",
      " -- forced options: -sS -Pn -n --randomize-hosts -v --send-eth\n",
      "Initiating SYN Stealth Scan\n",
      "Scanning 1 hosts [65535 ports/host]\n",
      "                                                                             \r"
     ]
    }
   ],
   "source": [
    "!masscan  -p 1-65535 --rate 100000 {HOST} -oG masscan --banners --open "
   ]
  },
  {
   "cell_type": "markdown",
   "metadata": {},
   "source": [
    "### UDP Scanning using Unicorn Scan"
   ]
  },
  {
   "cell_type": "code",
   "execution_count": 4,
   "metadata": {},
   "outputs": [],
   "source": [
    "!unicornscan {HOST}"
   ]
  },
  {
   "cell_type": "markdown",
   "metadata": {},
   "source": [
    "### Onetwopunch! Optimized tool for fingerprinting"
   ]
  },
  {
   "cell_type": "code",
   "execution_count": null,
   "metadata": {},
   "outputs": [],
   "source": [
    "!git clone https://github.com/superkojiman/onetwopunch.git\n",
    "%cd onetwopunch/"
   ]
  },
  {
   "cell_type": "markdown",
   "metadata": {},
   "source": [
    "### Run Onetwopunch against target"
   ]
  },
  {
   "cell_type": "code",
   "execution_count": null,
   "metadata": {},
   "outputs": [],
   "source": [
    "!/root/VAPT/onetwopunch/onetwopunch.sh -t \"{TARGETLIST}\""
   ]
  },
  {
   "cell_type": "markdown",
   "metadata": {},
   "source": [
    "### PARSING NMAP OUTPUT FOR PENETRATION TESTING REPORT"
   ]
  },
  {
   "cell_type": "markdown",
   "metadata": {},
   "source": [
    "### Installing the parser (only run once)"
   ]
  },
  {
   "cell_type": "code",
   "execution_count": null,
   "metadata": {
    "scrolled": false
   },
   "outputs": [],
   "source": [
    "%%bash\n",
    "git clone https://github.com/Shifty0g/ultimate-nmap-parser/\n",
    "cd ultimate-nmap-parser/\n",
    "chmod +x ultimate-nmap-parser.sh\n"
   ]
  },
  {
   "cell_type": "markdown",
   "metadata": {},
   "source": [
    "### Parsing the full nmap scan"
   ]
  },
  {
   "cell_type": "code",
   "execution_count": 8,
   "metadata": {
    "scrolled": false
   },
   "outputs": [
    {
     "name": "stdout",
     "output_type": "stream",
     "text": [
      "\u001b[1m\t_  _ _    ___ _ _  _ ____ ___ ____    _  _ _  _ ____ ___  \n",
      "\t|  | |     |  | |\\/| |__|  |  |___    |\\ | |\\/| |__| |__] \n",
      "\t|__| |___  |  | |  | |  |  |  |___    | \\| |  | |  | |    \n",
      "\t\t\t___  ____ ____ ____ ____ ____                   \n",
      "\t\t\t|__] |__| |__/ [__  |___ |__/                   \n",
      "\t\t\t|    |  | |  \\ ___] |___ |  \\                   \n",
      "\t\t\t                                                \n",
      "\u001b[39m\u001b[0m\u001b[96mVersion: 0.6 - 08/06/2019\n",
      "Created By: Shifty0g \thttps://github.com/shifty0g  \u001b[39m\n",
      "\n",
      "\u001b[1m\u001b[93m[>]\u001b[0m Creating CSV File\n",
      "\t- parsed_nmap.csv\n",
      "\n",
      "\u001b[1m\u001b[93m[>]\u001b[0m Creating Summary\n",
      "\t- summary.txt\n",
      "\n",
      "\u001b[1m\u001b[93m[>]\u001b[0m Creating IP Port file \n",
      "\t- parsed_ipport.txt\n",
      "\n",
      "\u001b[1m\u001b[93m[>]\u001b[0m Parsing unique ports\n",
      "\t- ports_unique.txt\n",
      "\n",
      "\u001b[1m\u001b[93m[>]\u001b[0m Parsing tcp ports\n",
      "\t- ports_tcp.txt\n",
      "\n",
      "\u001b[1m\u001b[93m[>]\u001b[0m Parsing udp ports\n",
      "\u001b[91m\t- no UDP ports \u001b[39m\n",
      "\n",
      "\u001b[1m\u001b[93m[>]\u001b[0m Parsing up hosts\n",
      "\t- hosts_up.txt\n",
      "\n",
      "\u001b[1m\u001b[93m[>]\u001b[0m Parsing down hosts\n",
      "\u001b[91m\t- no down hosts \u001b[39m\n",
      "\n",
      "\u001b[1m\u001b[93m[>]\u001b[0m Creating smb paths\n",
      "\u001b[91m\t- no SMB ports \u001b[39m\n",
      "\n",
      "\u001b[1m\u001b[93m[>]\u001b[0m Creating web URLS\n",
      "\u001b[91m\t- no ports found \u001b[39m\n",
      "\n",
      "\u001b[1m\u001b[93m[>]\u001b[0m Creating ssl/tls list\n",
      "\u001b[91m\t- no ports found \u001b[39m\n",
      "\n",
      "\u001b[1m\u001b[93m[>]\u001b[0m Generating host port files\n",
      "\t- hosts/[PROTOCOL]_[PORT]-[SERVICE].txt\n",
      "\n",
      "\u001b[1m\u001b[93m[>]\u001b[0m Generating  Closed Ports Summary\n",
      "\t- closed-summary.txt\n",
      "\n",
      "--------------------------------------------------------------------------------------\n",
      "\t\t\t\t           ___                           \n",
      "\t\t\t\t  _  _  .-'   '-.                        \n",
      "\t\t\t\t (.)(.)/         \\                       \n",
      "\t\t\t\t  /@@             ;                      \n",
      "\t\t\t\t o_\\-mm-......-mm`~~~~~~~~~~~~~~~~`   \n",
      "\t\t\t\t                                         \n",
      "\n",
      "\n",
      "\n",
      "::::::::::::::\n",
      "/root/VAPT/NMAP/parse/hosts_up.txt\n",
      "::::::::::::::\n",
      "192.168.106.141\n",
      "::::::::::::::\n",
      "/root/VAPT/NMAP/parse/parsed_ipport.txt\n",
      "::::::::::::::\n",
      "192.168.106.141:111\n",
      "::::::::::::::\n",
      "/root/VAPT/NMAP/parse/ports_tcp.txt\n",
      "::::::::::::::\n",
      "111\n",
      "::::::::::::::\n",
      "/root/VAPT/NMAP/parse/ports_unique.txt\n",
      "::::::::::::::\n",
      "111\n",
      "::::::::::::::\n",
      "/root/VAPT/NMAP/parse/summary.txt\n",
      "::::::::::::::\n",
      "+=========================================================================================+\n",
      "| HOST             | PORT / PROTOCOL  | SERVICE                                           |  \n",
      "+=========================================================================================+\n",
      "| 192.168.106.141  | 111 / tcp        | rpcbind - 2-4 (RPC #100000)                       | \n",
      "+=========================================================================================+\n",
      "::::::::::::::\n",
      "/root/VAPT/NMAP/parse/hosts/tcp_111-rpc.txt\n",
      "::::::::::::::\n",
      "192.168.106.141\n"
     ]
    }
   ],
   "source": [
    "%%bash\n",
    "cd /root/VAPT/NMAP/ #Change directory to NMAP results\n",
    "/root/VAPT/ultimate-nmap-parser/ultimate-nmap-parser.sh nmap-full.gnmap --csv --all"
   ]
  },
  {
   "cell_type": "markdown",
   "metadata": {},
   "source": [
    "# ENUMERATION"
   ]
  },
  {
   "cell_type": "markdown",
   "metadata": {},
   "source": [
    "### HTTP ENUMERATION"
   ]
  },
  {
   "cell_type": "markdown",
   "metadata": {},
   "source": [
    "#### NIKTO"
   ]
  },
  {
   "cell_type": "code",
   "execution_count": null,
   "metadata": {
    "scrolled": false
   },
   "outputs": [],
   "source": [
    "#Enter Host with port number\n",
    "#!nikto -h {HOST} -p 443\n",
    "#notice that the file we used here is from the output above\n",
    "!nikto -h /root/VAPT/NMAP/parse/hosts/tcp_8888-http.txt -p 8888"
   ]
  },
  {
   "cell_type": "markdown",
   "metadata": {},
   "source": [
    "#### Directory Bruteforcing"
   ]
  },
  {
   "cell_type": "code",
   "execution_count": null,
   "metadata": {
    "scrolled": true
   },
   "outputs": [],
   "source": [
    "!dirb http://{HOST}:8888 #Remember to manually type the port"
   ]
  },
  {
   "cell_type": "markdown",
   "metadata": {},
   "source": [
    "## OPTIMIZING NMAP OUTPUT WITH SEARCHSPLOIT"
   ]
  },
  {
   "cell_type": "code",
   "execution_count": null,
   "metadata": {
    "scrolled": false
   },
   "outputs": [],
   "source": [
    "!searchsploit -v --nmap \"{GUIDEM_NMAP_DIR}/nmap-full.xml\""
   ]
  },
  {
   "cell_type": "markdown",
   "metadata": {},
   "source": [
    "## FROM THE OUTPUT ABOVE SEARCH FOR EXPLOITS OR SCANNER IN METASPLOIT "
   ]
  },
  {
   "cell_type": "markdown",
   "metadata": {},
   "source": [
    "Basic methodology is now finished!! Now go and hack the machines!!!"
   ]
  },
  {
   "cell_type": "markdown",
   "metadata": {
    "scrolled": true
   },
   "source": [
    "GUIDEM WISHES YOU LUCK THE FOLLOWING MODULES WILL BE HARDER"
   ]
  },
  {
   "cell_type": "code",
   "execution_count": null,
   "metadata": {},
   "outputs": [],
   "source": []
  }
 ],
 "metadata": {
  "kernelspec": {
   "display_name": "Python 3",
   "language": "python",
   "name": "python3"
  },
  "language_info": {
   "codemirror_mode": {
    "name": "ipython",
    "version": 3
   },
   "file_extension": ".py",
   "mimetype": "text/x-python",
   "name": "python",
   "nbconvert_exporter": "python",
   "pygments_lexer": "ipython3",
   "version": "3.7.4"
  }
 },
 "nbformat": 4,
 "nbformat_minor": 2
}

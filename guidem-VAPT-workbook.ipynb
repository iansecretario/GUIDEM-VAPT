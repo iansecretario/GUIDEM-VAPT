{
 "cells": [
  {
   "cell_type": "markdown",
   "metadata": {},
   "source": [
    "# GUIDEM PENETRATION TESTING METHODOLOGY "
   ]
  },
  {
   "cell_type": "code",
   "execution_count": 6,
   "metadata": {
    "scrolled": true
   },
   "outputs": [],
   "source": [
    "# Set all variables replace host with target list or host ip address\n",
    "\n",
    "HOST = '192.168.106.141' #Replace me\n",
    "TARGETLIST = '/root/VAPT/pentest-project1/targets'\n",
    "GUIDEM_NMAP_DIR = '/root/VAPT/NMAP'\n",
    "GUIDEM_DIRB_DIR = '/root/VAPT/DIRB'\n",
    "GUIDEM_NIKTO_DIR = '/root/VAPT/NIKTO'\n",
    "GUIDEM_WORDLISTS_DIR = '/root/VAPT/WORDLIST'"
   ]
  },
  {
   "cell_type": "code",
   "execution_count": 7,
   "metadata": {},
   "outputs": [
    {
     "name": "stdout",
     "output_type": "stream",
     "text": [
      "mkdir: cannot create directory ‘/root/VAPT/’: File exists\n",
      "mkdir: cannot create directory ‘pentest-project1/’: File exists\n",
      "/root/VAPT/pentest-project1\n"
     ]
    }
   ],
   "source": [
    "!mkdir /root/VAPT/\n",
    "!mkdir pentest-project1/\n",
    "%cd /root/VAPT/pentest-project1/\n",
    "!touch targets # edit targets file before proceeding and input your target ip"
   ]
  },
  {
   "cell_type": "markdown",
   "metadata": {},
   "source": [
    "## CREATE DIRECTORIES FOR FILE OUTPUT"
   ]
  },
  {
   "cell_type": "code",
   "execution_count": null,
   "metadata": {
    "scrolled": false
   },
   "outputs": [],
   "source": [
    "%cd /root/VAPT/\n",
    "!mkdir {GUIDEM_NMAP_DIR}\n",
    "!mkdir {GUIDEM_DIRB_DIR}\n",
    "!mkdir {GUIDEM_NIKTO_DIR}\n",
    "!mkdir {GUIDEM_WORDLISTS_DIR}"
   ]
  },
  {
   "cell_type": "markdown",
   "metadata": {},
   "source": [
    "# SCANNING AND ENUMERATION"
   ]
  },
  {
   "cell_type": "markdown",
   "metadata": {},
   "source": [
    "### SCAN A SINGLE HOST"
   ]
  },
  {
   "cell_type": "code",
   "execution_count": null,
   "metadata": {
    "scrolled": true
   },
   "outputs": [],
   "source": [
    "!nmap -sS -oA \"{GUIDEM_NMAP_DIR}/syn_scan_single\" {HOST}"
   ]
  },
  {
   "cell_type": "markdown",
   "metadata": {},
   "source": [
    "### SCAN A LIST OF TARGETS"
   ]
  },
  {
   "cell_type": "code",
   "execution_count": null,
   "metadata": {
    "scrolled": true
   },
   "outputs": [],
   "source": [
    "!nmap -sS -oA \"{GUIDEM_NMAP_DIR}/syn_scan_multiple\" -iL {TARGETLIST}"
   ]
  },
  {
   "cell_type": "markdown",
   "metadata": {},
   "source": [
    "### VERSION DETECTION & ENUMERATION"
   ]
  },
  {
   "cell_type": "code",
   "execution_count": null,
   "metadata": {
    "scrolled": true
   },
   "outputs": [],
   "source": [
    "!nmap -sSV -oA \"{GUIDEM_NMAP_DIR}/version_detection\" -iL {TARGETLIST}"
   ]
  },
  {
   "cell_type": "code",
   "execution_count": null,
   "metadata": {
    "scrolled": true
   },
   "outputs": [],
   "source": [
    "!nmap -sSV -oA \"{GUIDEM_NMAP_DIR}/version_detection\" -iL {TARGETLIST}"
   ]
  },
  {
   "cell_type": "markdown",
   "metadata": {},
   "source": [
    "### SYN SCAN WITH NMAP SCRIPTING ENGINE"
   ]
  },
  {
   "cell_type": "code",
   "execution_count": null,
   "metadata": {
    "scrolled": false
   },
   "outputs": [],
   "source": [
    "#You can replace the -iL with an ip address\n",
    "!nmap -sSC -oA \"{GUIDEM_NMAP_DIR}/syn_nmapscript\" -iL {TARGETLIST}"
   ]
  },
  {
   "cell_type": "markdown",
   "metadata": {},
   "source": [
    "### Perform Full TCP NMAP SCAN - This might take long"
   ]
  },
  {
   "cell_type": "markdown",
   "metadata": {
    "scrolled": false
   },
   "source": [
    "!nmap -sSCV -p- -O -oA \"{GUIDEM_NMAP_DIR}/nmap-full\" -iL {TARGETLIST} -vv"
   ]
  },
  {
   "cell_type": "markdown",
   "metadata": {},
   "source": [
    "### MAKE SURE NO TCP PORTS WAS MISSED - THIS CAN BE ALSO DONE DURING INITIAL SCANNING"
   ]
  },
  {
   "cell_type": "code",
   "execution_count": null,
   "metadata": {},
   "outputs": [],
   "source": [
    "!masscan  -p1-65535 {HOST}"
   ]
  },
  {
   "cell_type": "markdown",
   "metadata": {},
   "source": [
    "### UDP Scanning using Unicorn Scan"
   ]
  },
  {
   "cell_type": "code",
   "execution_count": null,
   "metadata": {},
   "outputs": [],
   "source": [
    "!unicornscan {HOST}"
   ]
  },
  {
   "cell_type": "markdown",
   "metadata": {},
   "source": [
    "### Onetwopunch! Optimized tool for fingerprinting"
   ]
  },
  {
   "cell_type": "code",
   "execution_count": null,
   "metadata": {},
   "outputs": [],
   "source": [
    "!git clone https://github.com/superkojiman/onetwopunch.git\n",
    "%cd onetwopunch/"
   ]
  },
  {
   "cell_type": "markdown",
   "metadata": {},
   "source": [
    "### Run Onetwopunch against target"
   ]
  },
  {
   "cell_type": "code",
   "execution_count": null,
   "metadata": {},
   "outputs": [],
   "source": [
    "!/root/VAPT/onetwopunch/onetwopunch.sh -t \"{TARGETLIST}\""
   ]
  },
  {
   "cell_type": "markdown",
   "metadata": {},
   "source": [
    "### PARSING NMAP OUTPUT FOR PENETRATION TESTING REPORT"
   ]
  },
  {
   "cell_type": "markdown",
   "metadata": {},
   "source": [
    "### Installing the parser (only run once)"
   ]
  },
  {
   "cell_type": "code",
   "execution_count": null,
   "metadata": {
    "scrolled": false
   },
   "outputs": [],
   "source": [
    "%%bash\n",
    "git clone https://github.com/Shifty0g/ultimate-nmap-parser/\n",
    "cd ultimate-nmap-parser/\n",
    "chmod +x ultimate-nmap-parser.sh\n"
   ]
  },
  {
   "cell_type": "markdown",
   "metadata": {},
   "source": [
    "### Parsing the full nmap scan"
   ]
  },
  {
   "cell_type": "code",
   "execution_count": null,
   "metadata": {
    "scrolled": false
   },
   "outputs": [],
   "source": [
    "%%bash\n",
    "cd NMAP/ #Change directory to NMAP results\n",
    "/root/VAPT/ultimate-nmap-parser/ultimate-nmap-parser.sh nmap-full.gnmap --csv --all"
   ]
  },
  {
   "cell_type": "markdown",
   "metadata": {},
   "source": [
    "# ENUMERATION"
   ]
  },
  {
   "cell_type": "markdown",
   "metadata": {},
   "source": [
    "### HTTP ENUMERATION"
   ]
  },
  {
   "cell_type": "markdown",
   "metadata": {},
   "source": [
    "#### NIKTO"
   ]
  },
  {
   "cell_type": "code",
   "execution_count": null,
   "metadata": {
    "scrolled": false
   },
   "outputs": [],
   "source": [
    "#Enter Host with port number\n",
    "#!nikto -h {HOST} -p 443\n",
    "!nikto -h /root/VAPT/NMAP/parse/hosts/tcp_8888-http.txt -p 8888"
   ]
  },
  {
   "cell_type": "markdown",
   "metadata": {},
   "source": [
    "#### Directory Bruteforcing"
   ]
  },
  {
   "cell_type": "code",
   "execution_count": null,
   "metadata": {
    "scrolled": true
   },
   "outputs": [],
   "source": [
    "dirb "
   ]
  },
  {
   "cell_type": "markdown",
   "metadata": {},
   "source": [
    "## OPTIMIZING NMAP OUTPUT WITH SEARCHSPLOIT"
   ]
  },
  {
   "cell_type": "code",
   "execution_count": null,
   "metadata": {
    "scrolled": false
   },
   "outputs": [],
   "source": [
    "!searchsploit -v --nmap \"{GUIDEM_NMAP_DIR}/nmap-full.xml\""
   ]
  },
  {
   "cell_type": "markdown",
   "metadata": {},
   "source": [
    "## FROM THE OUTPUT ABOVE SEARCH FOR EXPLOITS OR SCANNER IN METASPLOIT "
   ]
  },
  {
   "cell_type": "raw",
   "metadata": {},
   "source": [
    "%%bash\n",
    "service postgresql start\n",
    "msfconsole -qx \"msfdb init\"\n",
    "search rpc "
   ]
  },
  {
   "cell_type": "code",
   "execution_count": null,
   "metadata": {
    "scrolled": true
   },
   "outputs": [
    {
     "name": "stdout",
     "output_type": "stream",
     "text": [
      "\u001b[0m\u001b[1m\u001b[31m[-]\u001b[0m No such file /root/VAPT/NMAP/nmap-full.xml\n",
      "\u001b[4mmsf5\u001b[0m \u001b[0m> "
     ]
    }
   ],
   "source": [
    "!msfconsole -qx \"db_import /root/VAPT/NMAP/nmap-full.xml\"\n",
    "hosts -u"
   ]
  },
  {
   "cell_type": "code",
   "execution_count": null,
   "metadata": {},
   "outputs": [],
   "source": []
  }
 ],
 "metadata": {
  "kernelspec": {
   "display_name": "Python 3",
   "language": "python",
   "name": "python3"
  },
  "language_info": {
   "codemirror_mode": {
    "name": "ipython",
    "version": 3
   },
   "file_extension": ".py",
   "mimetype": "text/x-python",
   "name": "python",
   "nbconvert_exporter": "python",
   "pygments_lexer": "ipython3",
   "version": "3.7.4"
  }
 },
 "nbformat": 4,
 "nbformat_minor": 2
}

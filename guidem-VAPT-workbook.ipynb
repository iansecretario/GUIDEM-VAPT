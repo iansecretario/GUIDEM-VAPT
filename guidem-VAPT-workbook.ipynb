{
 "cells": [
  {
   "cell_type": "markdown",
   "metadata": {},
   "source": [
    "# GUIDEM PENETRATION TESTING METHODOLOGY "
   ]
  },
  {
   "cell_type": "code",
   "execution_count": null,
   "metadata": {
    "scrolled": true
   },
   "outputs": [],
   "source": [
    "# Set all variables replace host with target list or host ip address\n",
    "\n",
    "HOST = '192.168.214.184' #Replace me\n",
    "TARGETLIST = '/root/VAPT/pentest-project1/targets'\n",
    "GUIDEM_NMAP_DIR = '/root/VAPT/NMAP'\n",
    "GUIDEM_DIRB_DIR = '/root/VAPT/DIRB'\n",
    "GUIDEM_NIKTO_DIR = '/root/VAPT/NIKTO'\n",
    "GUIDEM_WORDLISTS_DIR = '/root/VAPT/WORDLIST'"
   ]
  },
  {
   "cell_type": "code",
   "execution_count": null,
   "metadata": {},
   "outputs": [],
   "source": [
    "!mkdir /root/VAPT/\n",
    "!mkdir /root/VAPT/pentest-project1/\n",
    "%cd /root/VAPT/pentest-project1/\n",
    "!touch targets # edit targets file before proceeding and input your target ip"
   ]
  },
  {
   "cell_type": "markdown",
   "metadata": {},
   "source": [
    "## CREATE DIRECTORIES FOR FILE OUTPUT"
   ]
  },
  {
   "cell_type": "code",
   "execution_count": null,
   "metadata": {
    "scrolled": false
   },
   "outputs": [],
   "source": [
    "%cd /root/VAPT/\n",
    "!mkdir {GUIDEM_NMAP_DIR}\n",
    "!mkdir {GUIDEM_DIRB_DIR}\n",
    "!mkdir {GUIDEM_NIKTO_DIR}\n",
    "!mkdir {GUIDEM_WORDLISTS_DIR}"
   ]
  },
  {
   "cell_type": "markdown",
   "metadata": {},
   "source": [
    "# SCANNING AND ENUMERATION"
   ]
  },
  {
   "cell_type": "markdown",
   "metadata": {},
   "source": [
    "### SCAN A SINGLE HOST"
   ]
  },
  {
   "cell_type": "code",
   "execution_count": null,
   "metadata": {
    "scrolled": true
   },
   "outputs": [],
   "source": [
    "!nmap -sS -oA \"{GUIDEM_NMAP_DIR}/syn_scan_single\" {HOST}"
   ]
  },
  {
   "cell_type": "markdown",
   "metadata": {},
   "source": [
    "### SCAN A LIST OF TARGETS"
   ]
  },
  {
   "cell_type": "code",
   "execution_count": null,
   "metadata": {
    "scrolled": true
   },
   "outputs": [],
   "source": [
    "!nmap -sS -oA \"{GUIDEM_NMAP_DIR}/syn_scan_multiple\" -iL {TARGETLIST}"
   ]
  },
  {
   "cell_type": "markdown",
   "metadata": {},
   "source": [
    "### VERSION DETECTION & ENUMERATION"
   ]
  },
  {
   "cell_type": "code",
   "execution_count": null,
   "metadata": {
    "scrolled": true
   },
   "outputs": [],
   "source": [
    "!nmap -sSV -oA \"{GUIDEM_NMAP_DIR}/version_detection\" {HOST}"
   ]
  },
  {
   "cell_type": "code",
   "execution_count": null,
   "metadata": {
    "scrolled": true
   },
   "outputs": [],
   "source": [
    "!nmap -sSV -oA \"{GUIDEM_NMAP_DIR}/version_detection\" -iL {TARGETLIST}"
   ]
  },
  {
   "cell_type": "markdown",
   "metadata": {},
   "source": [
    "### SYN SCAN WITH NMAP SCRIPTING ENGINE"
   ]
  },
  {
   "cell_type": "code",
   "execution_count": null,
   "metadata": {
    "scrolled": false
   },
   "outputs": [],
   "source": [
    "#You can replace the -iL with an ip address\n",
    "!nmap -sSC -oA \"{GUIDEM_NMAP_DIR}/syn_nmapscript\" -iL {TARGETLIST}"
   ]
  },
  {
   "cell_type": "markdown",
   "metadata": {},
   "source": [
    "### Perform Full TCP NMAP SCAN - This might take long"
   ]
  },
  {
   "cell_type": "code",
   "execution_count": null,
   "metadata": {},
   "outputs": [],
   "source": [
    "!nmap -sSCV -A -p- -O -oA \"{GUIDEM_NMAP_DIR}/nmap-full\" -iL {TARGETLIST} -vv"
   ]
  },
  {
   "cell_type": "markdown",
   "metadata": {},
   "source": [
    "### MAKE SURE NO TCP PORTS WAS MISSED - THIS CAN BE ALSO DONE DURING INITIAL SCANNING"
   ]
  },
  {
   "cell_type": "code",
   "execution_count": null,
   "metadata": {},
   "outputs": [],
   "source": [
    "%cd /root/VAPT/\n",
    "!masscan  -p1-65535 --rate 10000 {HOST} -oG masscan --banners --open "
   ]
  },
  {
   "cell_type": "markdown",
   "metadata": {},
   "source": [
    "### UDP Scanning using Unicorn Scan"
   ]
  },
  {
   "cell_type": "code",
   "execution_count": null,
   "metadata": {},
   "outputs": [],
   "source": [
    "!unicornscan {HOST}"
   ]
  },
  {
   "cell_type": "markdown",
   "metadata": {},
   "source": [
    "### Onetwopunch! Optimized tool for fingerprinting"
   ]
  },
  {
   "cell_type": "code",
   "execution_count": null,
   "metadata": {},
   "outputs": [],
   "source": [
    "!git clone https://github.com/superkojiman/onetwopunch.git\n",
    "%cd onetwopunch/"
   ]
  },
  {
   "cell_type": "markdown",
   "metadata": {},
   "source": [
    "### Run Onetwopunch against target"
   ]
  },
  {
   "cell_type": "code",
   "execution_count": null,
   "metadata": {},
   "outputs": [],
   "source": [
    "!/root/VAPT/onetwopunch/onetwopunch.sh -t \"{TARGETLIST}\""
   ]
  },
  {
   "cell_type": "markdown",
   "metadata": {},
   "source": [
    "### PARSING NMAP OUTPUT FOR PENETRATION TESTING REPORT"
   ]
  },
  {
   "cell_type": "markdown",
   "metadata": {},
   "source": [
    "### Installing the parser (only run once)"
   ]
  },
  {
   "cell_type": "code",
   "execution_count": null,
   "metadata": {
    "scrolled": false
   },
   "outputs": [],
   "source": [
    "%%bash\n",
    "git clone https://github.com/Shifty0g/ultimate-nmap-parser/\n",
    "cd ultimate-nmap-parser/\n",
    "chmod +x ultimate-nmap-parser.sh\n"
   ]
  },
  {
   "cell_type": "markdown",
   "metadata": {},
   "source": [
    "### Parsing the full nmap scan"
   ]
  },
  {
   "cell_type": "code",
   "execution_count": null,
   "metadata": {
    "scrolled": false
   },
   "outputs": [],
   "source": [
    "%%bash\n",
    "%cd /root/VAPT/NMAP/ #Change directory to NMAP results\n",
    "/root/VAPT/ultimate-nmap-parser/ultimate-nmap-parser.sh /root/VAPT/NMAP/nmap-full.gnmap --csv --all"
   ]
  },
  {
   "cell_type": "markdown",
   "metadata": {},
   "source": [
    "# ENUMERATION"
   ]
  },
  {
   "cell_type": "markdown",
   "metadata": {},
   "source": [
    "### HTTP ENUMERATION"
   ]
  },
  {
   "cell_type": "markdown",
   "metadata": {},
   "source": [
    "#### NIKTO"
   ]
  },
  {
   "cell_type": "code",
   "execution_count": null,
   "metadata": {
    "scrolled": false
   },
   "outputs": [],
   "source": [
    "#Enter Host with port number\n",
    "#!nikto -h {HOST} -p 443\n",
    "#notice that the file we used here is from the output above\n",
    "!nikto -h /root/VAPT/NMAP/parse/hosts/tcp_8888-http.txt -p 8888"
   ]
  },
  {
   "cell_type": "markdown",
   "metadata": {},
   "source": [
    "#### Directory Bruteforcing"
   ]
  },
  {
   "cell_type": "code",
   "execution_count": null,
   "metadata": {
    "scrolled": true
   },
   "outputs": [],
   "source": [
    "!dirb http://{HOST}:8888 #Remember to manually type the port"
   ]
  },
  {
   "cell_type": "markdown",
   "metadata": {},
   "source": [
    "## OPTIMIZING NMAP OUTPUT WITH SEARCHSPLOIT"
   ]
  },
  {
   "cell_type": "code",
   "execution_count": null,
   "metadata": {
    "scrolled": false
   },
   "outputs": [],
   "source": [
    "!searchsploit -v --nmap \"{GUIDEM_NMAP_DIR}/nmap-full.xml\""
   ]
  },
  {
   "cell_type": "markdown",
   "metadata": {},
   "source": [
    "## FROM THE OUTPUT ABOVE SEARCH FOR EXPLOITS OR SCANNER IN METASPLOIT "
   ]
  },
  {
   "cell_type": "markdown",
   "metadata": {},
   "source": [
    "Basic methodology is now finished!! Now go and hack the machines!!!"
   ]
  },
  {
   "cell_type": "markdown",
   "metadata": {
    "scrolled": true
   },
   "source": [
    "GUIDEM WISHES YOU LUCK THE FOLLOWING MODULES WILL BE HARDER"
   ]
  },
  {
   "cell_type": "code",
   "execution_count": null,
   "metadata": {},
   "outputs": [],
   "source": []
  }
 ],
 "metadata": {
  "kernelspec": {
   "display_name": "Python 3",
   "language": "python",
   "name": "python3"
  },
  "language_info": {
   "codemirror_mode": {
    "name": "ipython",
    "version": 3
   },
   "file_extension": ".py",
   "mimetype": "text/x-python",
   "name": "python",
   "nbconvert_exporter": "python",
   "pygments_lexer": "ipython3",
   "version": "3.7.4"
  }
 },
 "nbformat": 4,
 "nbformat_minor": 2
}
